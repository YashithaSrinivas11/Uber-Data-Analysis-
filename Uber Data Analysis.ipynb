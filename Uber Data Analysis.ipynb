{
 "cells": [
  {
   "cell_type": "code",
   "execution_count": 0,
   "metadata": {
    "application/vnd.databricks.v1+cell": {
     "cellMetadata": {
      "byteLimit": 2048000,
      "rowLimit": 10000
     },
     "inputWidgets": {},
     "nuid": "ff3c92f7-c7cc-40e5-a4c8-ade130cada57",
     "showTitle": false,
     "tableResultSettingsMap": {},
     "title": ""
    }
   },
   "outputs": [
    {
     "output_type": "stream",
     "name": "stdout",
     "output_type": "stream",
     "text": [
      "+---------+------------+---------+-------+----------------+---------+--------------+\n|     Date|Time (Local)|Eyeballs |Zeroes |Completed Trips |Requests |Unique Drivers|\n+---------+------------+---------+-------+----------------+---------+--------------+\n|10-Sep-12|           7|        5|      0|               2|        2|             9|\n|     null|           8|        6|      0|               2|        2|            14|\n|     null|           9|        8|      3|               0|        0|            14|\n|     null|          10|        9|      2|               0|        1|            14|\n|     null|          11|       11|      1|               4|        4|            11|\n|     null|          12|       12|      0|               2|        2|            11|\n|     null|          13|        9|      1|               0|        0|             9|\n|     null|          14|       12|      1|               0|        0|             9|\n|     null|          15|       11|      2|               1|        2|             7|\n|     null|          16|       11|      2|               3|        4|             6|\n|     null|          17|       12|      2|               3|        4|             4|\n|     null|          18|       11|      1|               3|        4|             7|\n|     null|          19|       13|      2|               2|        3|             7|\n|     null|          20|       11|      1|               0|        0|             5|\n|     null|          21|       11|      0|               1|        1|             3|\n|     null|          22|       16|      3|               0|        2|             4|\n|     null|          23|       21|      5|               3|        3|             4|\n|11-Sep-12|           0|        9|      3|               1|        1|             3|\n|     null|           1|        3|      2|               0|        1|             3|\n|     null|           2|        1|      1|               0|        0|             1|\n+---------+------------+---------+-------+----------------+---------+--------------+\nonly showing top 20 rows\n\n"
     ]
    }
   ],
   "source": [
    "df = spark.read.option(\"header\", True).option(\"inferSchema\", True).csv(\"dbfs:/FileStore/sample_data/dataset-1.csv\")\n",
    "df.show()\n"
   ]
  },
  {
   "cell_type": "code",
   "execution_count": 0,
   "metadata": {
    "application/vnd.databricks.v1+cell": {
     "cellMetadata": {
      "byteLimit": 2048000,
      "rowLimit": 10000
     },
     "inputWidgets": {},
     "nuid": "afa1c248-4ffa-426e-a44c-48b6d5069f99",
     "showTitle": false,
     "tableResultSettingsMap": {},
     "title": ""
    }
   },
   "outputs": [],
   "source": [
    "from pyspark.sql import SparkSession\n",
    "from pyspark.sql.functions import *\n",
    "\n",
    "# Create a SparkSession\n",
    "spark = SparkSession.builder.appName(\"UberDataAnalysis\").getOrCreate()\n",
    "\n",
    "# Load the dataset into a DataFrame\n",
    "df = spark.read.csv(\"dbfs:/FileStore/sample_data/dataset-1.csv\", header=True, inferSchema=True) "
   ]
  },
  {
   "cell_type": "code",
   "execution_count": 0,
   "metadata": {
    "application/vnd.databricks.v1+cell": {
     "cellMetadata": {
      "byteLimit": 2048000,
      "rowLimit": 10000
     },
     "inputWidgets": {},
     "nuid": "3f1fde4c-8e33-48ab-98da-b713acdf4a93",
     "showTitle": false,
     "tableResultSettingsMap": {},
     "title": ""
    }
   },
   "outputs": [],
   "source": [
    "from pyspark.sql.functions import col\n",
    "\n",
    "# Clean spaces in all columns\n",
    "uber = uber.select([col(c).alias(c.strip()) for c in uber.columns])\n"
   ]
  },
  {
   "cell_type": "code",
   "execution_count": 0,
   "metadata": {
    "application/vnd.databricks.v1+cell": {
     "cellMetadata": {
      "byteLimit": 2048000,
      "rowLimit": 10000
     },
     "inputWidgets": {},
     "nuid": "ea0ec4d7-ee52-4a18-9d57-7e42a354e405",
     "showTitle": false,
     "tableResultSettingsMap": {},
     "title": ""
    }
   },
   "outputs": [
    {
     "output_type": "stream",
     "name": "stdout",
     "output_type": "stream",
     "text": [
      "+--------+---------+\n|Eyeballs|     Date|\n+--------+---------+\n|       5|10-Sep-12|\n|       6|     null|\n|       8|     null|\n|       9|     null|\n|      11|     null|\n|      12|     null|\n|       9|     null|\n|      12|     null|\n|      11|     null|\n|      11|     null|\n|      12|     null|\n|      11|     null|\n|      13|     null|\n|      11|     null|\n|      11|     null|\n|      16|     null|\n|      21|     null|\n|       9|11-Sep-12|\n|       3|     null|\n|       1|     null|\n+--------+---------+\nonly showing top 20 rows\n\n"
     ]
    }
   ],
   "source": [
    "uber.select(\"Eyeballs\", \"Date\").show()\n"
   ]
  },
  {
   "cell_type": "code",
   "execution_count": 0,
   "metadata": {
    "application/vnd.databricks.v1+cell": {
     "cellMetadata": {
      "byteLimit": 2048000,
      "rowLimit": 10000
     },
     "inputWidgets": {},
     "nuid": "77d74b36-91ad-470e-9daf-b3984c903333",
     "showTitle": false,
     "tableResultSettingsMap": {},
     "title": ""
    }
   },
   "outputs": [
    {
     "output_type": "stream",
     "name": "stdout",
     "output_type": "stream",
     "text": [
      "+---------+------------+---------+-------+----------------+---------+--------------+\n|     Date|Time (Local)|Eyeballs |Zeroes |Completed Trips |Requests |Unique Drivers|\n+---------+------------+---------+-------+----------------+---------+--------------+\n|10-Sep-12|           7|        5|      0|               2|        2|             9|\n|11-Sep-12|           0|        9|      3|               1|        1|             3|\n|12-Sep-12|           0|        9|      2|               0|        1|             2|\n|13-Sep-12|           0|       11|     11|               0|        2|             0|\n|14-Sep-12|           0|       10|      1|               3|        4|             3|\n|15-Sep-12|           0|       45|      2|              23|       24|            19|\n|16-Sep-12|           0|       44|      2|              17|       20|            15|\n|17-Sep-12|           0|       11|      5|               0|        2|             2|\n|18-Sep-12|           0|       28|     18|               3|       13|             4|\n|19-Sep-12|           0|        9|      1|               0|        0|             3|\n|20-Sep-12|           0|       10|      4|               2|        3|             4|\n|21-Sep-12|           0|       22|      1|              10|       11|             9|\n|22-Sep-12|           0|       62|      4|              19|       27|            27|\n|23-Sep-12|           0|       62|     25|              23|       32|            18|\n|24-Sep-12|           0|        7|      2|               1|        2|             2|\n+---------+------------+---------+-------+----------------+---------+--------------+\n\n"
     ]
    }
   ],
   "source": [
    "df_filtered = df.filter(col(\"Date\") != \"null\")\n",
    "df_filtered.show()\n",
    "\n"
   ]
  },
  {
   "cell_type": "code",
   "execution_count": 0,
   "metadata": {
    "application/vnd.databricks.v1+cell": {
     "cellMetadata": {
      "byteLimit": 2048000,
      "rowLimit": 10000
     },
     "inputWidgets": {},
     "nuid": "3097edb0-9bd9-4db3-897b-c23d7580999c",
     "showTitle": false,
     "tableResultSettingsMap": {},
     "title": ""
    }
   },
   "outputs": [
    {
     "output_type": "stream",
     "name": "stdout",
     "output_type": "stream",
     "text": [
      "+---------+------------+--------+------+---------------+--------+--------------+\n|     Date|Time (Local)|Eyeballs|Zeroes|Completed Trips|Requests|Unique Drivers|\n+---------+------------+--------+------+---------------+--------+--------------+\n|10-Sep-12|           7|       5|     0|              2|       2|             9|\n|     null|           8|       6|     0|              2|       2|            14|\n|     null|           9|       8|     3|              0|       0|            14|\n|     null|          10|       9|     2|              0|       1|            14|\n|     null|          11|      11|     1|              4|       4|            11|\n+---------+------------+--------+------+---------------+--------+--------------+\nonly showing top 5 rows\n\n+---------+--------------------+\n|     Date|sum(Completed Trips)|\n+---------+--------------------+\n|11-Sep-12|                   1|\n|13-Sep-12|                   0|\n|17-Sep-12|                   0|\n|18-Sep-12|                   3|\n|21-Sep-12|                  10|\n|     null|                1261|\n|15-Sep-12|                  23|\n|12-Sep-12|                   0|\n|19-Sep-12|                   0|\n|14-Sep-12|                   3|\n|16-Sep-12|                  17|\n|23-Sep-12|                  23|\n|24-Sep-12|                   1|\n|22-Sep-12|                  19|\n|20-Sep-12|                   2|\n|10-Sep-12|                   2|\n+---------+--------------------+\n\nDate with most completed trips: None with 1261 trips\n"
     ]
    }
   ],
   "source": [
    "from pyspark.sql.functions import col, when\n",
    "\n",
    "# Replace invalid or null values\n",
    "uber = uber.withColumn(\"Completed Trips\", when(col(\"Completed Trips\").isNull(), 0).otherwise(col(\"Completed Trips\").cast(\"int\")))\n",
    "\n",
    "# Verify column names and clean data\n",
    "uber.show(5)\n",
    "\n",
    "# Group the data by date and sum completed trips\n",
    "completed_trips_by_date = uber.groupBy(\"Date\").sum(\"Completed Trips\")\n",
    "completed_trips_by_date.show()\n",
    "\n",
    "# Find the date with most completed trips\n",
    "if completed_trips_by_date.count() > 0:\n",
    "    date_with_most_completed_trips = completed_trips_by_date.orderBy(col(\"sum(Completed Trips)\").desc()).first()\n",
    "    if date_with_most_completed_trips:\n",
    "        print(f\"Date with most completed trips: {date_with_most_completed_trips['Date']} with {date_with_most_completed_trips['sum(Completed Trips)']} trips\")\n",
    "    else:\n",
    "        print(\"No data available for completed trips.\")\n",
    "else:\n",
    "    print(\"No data available after grouping by date.\")"
   ]
  }
 ],
 "metadata": {
  "application/vnd.databricks.v1+notebook": {
   "computePreferences": null,
   "dashboards": [],
   "environmentMetadata": {
    "base_environment": "",
    "environment_version": "1"
   },
   "inputWidgetPreferences": null,
   "language": "python",
   "notebookMetadata": {
    "pythonIndentUnit": 4
   },
   "notebookName": "Uber Data Analysis",
   "widgets": {}
  }
 },
 "nbformat": 4,
 "nbformat_minor": 0
}